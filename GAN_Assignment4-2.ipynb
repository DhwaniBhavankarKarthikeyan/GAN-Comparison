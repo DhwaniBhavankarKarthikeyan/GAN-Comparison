{
  "nbformat": 4,
  "nbformat_minor": 0,
  "metadata": {
    "colab": {
      "provenance": [],
      "gpuType": "T4"
    },
    "kernelspec": {
      "name": "python3",
      "display_name": "Python 3"
    },
    "language_info": {
      "name": "python"
    },
    "accelerator": "GPU"
  },
  "cells": [
    {
      "source": [
        "!pip install medmnist"
      ],
      "cell_type": "code",
      "metadata": {
        "colab": {
          "base_uri": "https://localhost:8080/"
        },
        "id": "cuBpP_k1Dbcs",
        "outputId": "f0ef9df0-4b15-44f4-eb4a-bc327e885831"
      },
      "execution_count": 1,
      "outputs": [
        {
          "output_type": "stream",
          "name": "stdout",
          "text": [
            "Collecting medmnist\n",
            "  Downloading medmnist-3.0.2-py3-none-any.whl.metadata (14 kB)\n",
            "Requirement already satisfied: numpy in /usr/local/lib/python3.11/dist-packages (from medmnist) (2.0.2)\n",
            "Requirement already satisfied: pandas in /usr/local/lib/python3.11/dist-packages (from medmnist) (2.2.2)\n",
            "Requirement already satisfied: scikit-learn in /usr/local/lib/python3.11/dist-packages (from medmnist) (1.6.1)\n",
            "Requirement already satisfied: scikit-image in /usr/local/lib/python3.11/dist-packages (from medmnist) (0.25.2)\n",
            "Requirement already satisfied: tqdm in /usr/local/lib/python3.11/dist-packages (from medmnist) (4.67.1)\n",
            "Requirement already satisfied: Pillow in /usr/local/lib/python3.11/dist-packages (from medmnist) (11.1.0)\n",
            "Collecting fire (from medmnist)\n",
            "  Downloading fire-0.7.0.tar.gz (87 kB)\n",
            "\u001b[2K     \u001b[90m━━━━━━━━━━━━━━━━━━━━━━━━━━━━━━━━━━━━━━━━\u001b[0m \u001b[32m87.2/87.2 kB\u001b[0m \u001b[31m7.4 MB/s\u001b[0m eta \u001b[36m0:00:00\u001b[0m\n",
            "\u001b[?25h  Preparing metadata (setup.py) ... \u001b[?25l\u001b[?25hdone\n",
            "Requirement already satisfied: torch in /usr/local/lib/python3.11/dist-packages (from medmnist) (2.6.0+cu124)\n",
            "Requirement already satisfied: torchvision in /usr/local/lib/python3.11/dist-packages (from medmnist) (0.21.0+cu124)\n",
            "Requirement already satisfied: termcolor in /usr/local/lib/python3.11/dist-packages (from fire->medmnist) (3.0.0)\n",
            "Requirement already satisfied: python-dateutil>=2.8.2 in /usr/local/lib/python3.11/dist-packages (from pandas->medmnist) (2.8.2)\n",
            "Requirement already satisfied: pytz>=2020.1 in /usr/local/lib/python3.11/dist-packages (from pandas->medmnist) (2025.2)\n",
            "Requirement already satisfied: tzdata>=2022.7 in /usr/local/lib/python3.11/dist-packages (from pandas->medmnist) (2025.2)\n",
            "Requirement already satisfied: scipy>=1.11.4 in /usr/local/lib/python3.11/dist-packages (from scikit-image->medmnist) (1.14.1)\n",
            "Requirement already satisfied: networkx>=3.0 in /usr/local/lib/python3.11/dist-packages (from scikit-image->medmnist) (3.4.2)\n",
            "Requirement already satisfied: imageio!=2.35.0,>=2.33 in /usr/local/lib/python3.11/dist-packages (from scikit-image->medmnist) (2.37.0)\n",
            "Requirement already satisfied: tifffile>=2022.8.12 in /usr/local/lib/python3.11/dist-packages (from scikit-image->medmnist) (2025.3.30)\n",
            "Requirement already satisfied: packaging>=21 in /usr/local/lib/python3.11/dist-packages (from scikit-image->medmnist) (24.2)\n",
            "Requirement already satisfied: lazy-loader>=0.4 in /usr/local/lib/python3.11/dist-packages (from scikit-image->medmnist) (0.4)\n",
            "Requirement already satisfied: joblib>=1.2.0 in /usr/local/lib/python3.11/dist-packages (from scikit-learn->medmnist) (1.4.2)\n",
            "Requirement already satisfied: threadpoolctl>=3.1.0 in /usr/local/lib/python3.11/dist-packages (from scikit-learn->medmnist) (3.6.0)\n",
            "Requirement already satisfied: filelock in /usr/local/lib/python3.11/dist-packages (from torch->medmnist) (3.18.0)\n",
            "Requirement already satisfied: typing-extensions>=4.10.0 in /usr/local/lib/python3.11/dist-packages (from torch->medmnist) (4.13.0)\n",
            "Requirement already satisfied: jinja2 in /usr/local/lib/python3.11/dist-packages (from torch->medmnist) (3.1.6)\n",
            "Requirement already satisfied: fsspec in /usr/local/lib/python3.11/dist-packages (from torch->medmnist) (2025.3.2)\n",
            "Collecting nvidia-cuda-nvrtc-cu12==12.4.127 (from torch->medmnist)\n",
            "  Downloading nvidia_cuda_nvrtc_cu12-12.4.127-py3-none-manylinux2014_x86_64.whl.metadata (1.5 kB)\n",
            "Collecting nvidia-cuda-runtime-cu12==12.4.127 (from torch->medmnist)\n",
            "  Downloading nvidia_cuda_runtime_cu12-12.4.127-py3-none-manylinux2014_x86_64.whl.metadata (1.5 kB)\n",
            "Collecting nvidia-cuda-cupti-cu12==12.4.127 (from torch->medmnist)\n",
            "  Downloading nvidia_cuda_cupti_cu12-12.4.127-py3-none-manylinux2014_x86_64.whl.metadata (1.6 kB)\n",
            "Collecting nvidia-cudnn-cu12==9.1.0.70 (from torch->medmnist)\n",
            "  Downloading nvidia_cudnn_cu12-9.1.0.70-py3-none-manylinux2014_x86_64.whl.metadata (1.6 kB)\n",
            "Collecting nvidia-cublas-cu12==12.4.5.8 (from torch->medmnist)\n",
            "  Downloading nvidia_cublas_cu12-12.4.5.8-py3-none-manylinux2014_x86_64.whl.metadata (1.5 kB)\n",
            "Collecting nvidia-cufft-cu12==11.2.1.3 (from torch->medmnist)\n",
            "  Downloading nvidia_cufft_cu12-11.2.1.3-py3-none-manylinux2014_x86_64.whl.metadata (1.5 kB)\n",
            "Collecting nvidia-curand-cu12==10.3.5.147 (from torch->medmnist)\n",
            "  Downloading nvidia_curand_cu12-10.3.5.147-py3-none-manylinux2014_x86_64.whl.metadata (1.5 kB)\n",
            "Collecting nvidia-cusolver-cu12==11.6.1.9 (from torch->medmnist)\n",
            "  Downloading nvidia_cusolver_cu12-11.6.1.9-py3-none-manylinux2014_x86_64.whl.metadata (1.6 kB)\n",
            "Collecting nvidia-cusparse-cu12==12.3.1.170 (from torch->medmnist)\n",
            "  Downloading nvidia_cusparse_cu12-12.3.1.170-py3-none-manylinux2014_x86_64.whl.metadata (1.6 kB)\n",
            "Requirement already satisfied: nvidia-cusparselt-cu12==0.6.2 in /usr/local/lib/python3.11/dist-packages (from torch->medmnist) (0.6.2)\n",
            "Requirement already satisfied: nvidia-nccl-cu12==2.21.5 in /usr/local/lib/python3.11/dist-packages (from torch->medmnist) (2.21.5)\n",
            "Requirement already satisfied: nvidia-nvtx-cu12==12.4.127 in /usr/local/lib/python3.11/dist-packages (from torch->medmnist) (12.4.127)\n",
            "Collecting nvidia-nvjitlink-cu12==12.4.127 (from torch->medmnist)\n",
            "  Downloading nvidia_nvjitlink_cu12-12.4.127-py3-none-manylinux2014_x86_64.whl.metadata (1.5 kB)\n",
            "Requirement already satisfied: triton==3.2.0 in /usr/local/lib/python3.11/dist-packages (from torch->medmnist) (3.2.0)\n",
            "Requirement already satisfied: sympy==1.13.1 in /usr/local/lib/python3.11/dist-packages (from torch->medmnist) (1.13.1)\n",
            "Requirement already satisfied: mpmath<1.4,>=1.1.0 in /usr/local/lib/python3.11/dist-packages (from sympy==1.13.1->torch->medmnist) (1.3.0)\n",
            "Requirement already satisfied: six>=1.5 in /usr/local/lib/python3.11/dist-packages (from python-dateutil>=2.8.2->pandas->medmnist) (1.17.0)\n",
            "Requirement already satisfied: MarkupSafe>=2.0 in /usr/local/lib/python3.11/dist-packages (from jinja2->torch->medmnist) (3.0.2)\n",
            "Downloading medmnist-3.0.2-py3-none-any.whl (25 kB)\n",
            "Downloading nvidia_cublas_cu12-12.4.5.8-py3-none-manylinux2014_x86_64.whl (363.4 MB)\n",
            "\u001b[2K   \u001b[90m━━━━━━━━━━━━━━━━━━━━━━━━━━━━━━━━━━━━━━━━\u001b[0m \u001b[32m363.4/363.4 MB\u001b[0m \u001b[31m3.7 MB/s\u001b[0m eta \u001b[36m0:00:00\u001b[0m\n",
            "\u001b[?25hDownloading nvidia_cuda_cupti_cu12-12.4.127-py3-none-manylinux2014_x86_64.whl (13.8 MB)\n",
            "\u001b[2K   \u001b[90m━━━━━━━━━━━━━━━━━━━━━━━━━━━━━━━━━━━━━━━━\u001b[0m \u001b[32m13.8/13.8 MB\u001b[0m \u001b[31m71.9 MB/s\u001b[0m eta \u001b[36m0:00:00\u001b[0m\n",
            "\u001b[?25hDownloading nvidia_cuda_nvrtc_cu12-12.4.127-py3-none-manylinux2014_x86_64.whl (24.6 MB)\n",
            "\u001b[2K   \u001b[90m━━━━━━━━━━━━━━━━━━━━━━━━━━━━━━━━━━━━━━━━\u001b[0m \u001b[32m24.6/24.6 MB\u001b[0m \u001b[31m53.7 MB/s\u001b[0m eta \u001b[36m0:00:00\u001b[0m\n",
            "\u001b[?25hDownloading nvidia_cuda_runtime_cu12-12.4.127-py3-none-manylinux2014_x86_64.whl (883 kB)\n",
            "\u001b[2K   \u001b[90m━━━━━━━━━━━━━━━━━━━━━━━━━━━━━━━━━━━━━━━━\u001b[0m \u001b[32m883.7/883.7 kB\u001b[0m \u001b[31m42.6 MB/s\u001b[0m eta \u001b[36m0:00:00\u001b[0m\n",
            "\u001b[?25hDownloading nvidia_cudnn_cu12-9.1.0.70-py3-none-manylinux2014_x86_64.whl (664.8 MB)\n",
            "\u001b[2K   \u001b[90m━━━━━━━━━━━━━━━━━━━━━━━━━━━━━━━━━━━━━━━━\u001b[0m \u001b[32m664.8/664.8 MB\u001b[0m \u001b[31m2.9 MB/s\u001b[0m eta \u001b[36m0:00:00\u001b[0m\n",
            "\u001b[?25hDownloading nvidia_cufft_cu12-11.2.1.3-py3-none-manylinux2014_x86_64.whl (211.5 MB)\n",
            "\u001b[2K   \u001b[90m━━━━━━━━━━━━━━━━━━━━━━━━━━━━━━━━━━━━━━━━\u001b[0m \u001b[32m211.5/211.5 MB\u001b[0m \u001b[31m6.1 MB/s\u001b[0m eta \u001b[36m0:00:00\u001b[0m\n",
            "\u001b[?25hDownloading nvidia_curand_cu12-10.3.5.147-py3-none-manylinux2014_x86_64.whl (56.3 MB)\n",
            "\u001b[2K   \u001b[90m━━━━━━━━━━━━━━━━━━━━━━━━━━━━━━━━━━━━━━━━\u001b[0m \u001b[32m56.3/56.3 MB\u001b[0m \u001b[31m14.9 MB/s\u001b[0m eta \u001b[36m0:00:00\u001b[0m\n",
            "\u001b[?25hDownloading nvidia_cusolver_cu12-11.6.1.9-py3-none-manylinux2014_x86_64.whl (127.9 MB)\n",
            "\u001b[2K   \u001b[90m━━━━━━━━━━━━━━━━━━━━━━━━━━━━━━━━━━━━━━━━\u001b[0m \u001b[32m127.9/127.9 MB\u001b[0m \u001b[31m9.6 MB/s\u001b[0m eta \u001b[36m0:00:00\u001b[0m\n",
            "\u001b[?25hDownloading nvidia_cusparse_cu12-12.3.1.170-py3-none-manylinux2014_x86_64.whl (207.5 MB)\n",
            "\u001b[2K   \u001b[90m━━━━━━━━━━━━━━━━━━━━━━━━━━━━━━━━━━━━━━━━\u001b[0m \u001b[32m207.5/207.5 MB\u001b[0m \u001b[31m5.2 MB/s\u001b[0m eta \u001b[36m0:00:00\u001b[0m\n",
            "\u001b[?25hDownloading nvidia_nvjitlink_cu12-12.4.127-py3-none-manylinux2014_x86_64.whl (21.1 MB)\n",
            "\u001b[2K   \u001b[90m━━━━━━━━━━━━━━━━━━━━━━━━━━━━━━━━━━━━━━━━\u001b[0m \u001b[32m21.1/21.1 MB\u001b[0m \u001b[31m57.4 MB/s\u001b[0m eta \u001b[36m0:00:00\u001b[0m\n",
            "\u001b[?25hBuilding wheels for collected packages: fire\n",
            "  Building wheel for fire (setup.py) ... \u001b[?25l\u001b[?25hdone\n",
            "  Created wheel for fire: filename=fire-0.7.0-py3-none-any.whl size=114249 sha256=af30ab4ab9b464ba376d30d7137257721796a6a94832c9e4670c6dc2f057f1c0\n",
            "  Stored in directory: /root/.cache/pip/wheels/46/54/24/1624fd5b8674eb1188623f7e8e17cdf7c0f6c24b609dfb8a89\n",
            "Successfully built fire\n",
            "Installing collected packages: nvidia-nvjitlink-cu12, nvidia-curand-cu12, nvidia-cufft-cu12, nvidia-cuda-runtime-cu12, nvidia-cuda-nvrtc-cu12, nvidia-cuda-cupti-cu12, nvidia-cublas-cu12, fire, nvidia-cusparse-cu12, nvidia-cudnn-cu12, nvidia-cusolver-cu12, medmnist\n",
            "  Attempting uninstall: nvidia-nvjitlink-cu12\n",
            "    Found existing installation: nvidia-nvjitlink-cu12 12.5.82\n",
            "    Uninstalling nvidia-nvjitlink-cu12-12.5.82:\n",
            "      Successfully uninstalled nvidia-nvjitlink-cu12-12.5.82\n",
            "  Attempting uninstall: nvidia-curand-cu12\n",
            "    Found existing installation: nvidia-curand-cu12 10.3.6.82\n",
            "    Uninstalling nvidia-curand-cu12-10.3.6.82:\n",
            "      Successfully uninstalled nvidia-curand-cu12-10.3.6.82\n",
            "  Attempting uninstall: nvidia-cufft-cu12\n",
            "    Found existing installation: nvidia-cufft-cu12 11.2.3.61\n",
            "    Uninstalling nvidia-cufft-cu12-11.2.3.61:\n",
            "      Successfully uninstalled nvidia-cufft-cu12-11.2.3.61\n",
            "  Attempting uninstall: nvidia-cuda-runtime-cu12\n",
            "    Found existing installation: nvidia-cuda-runtime-cu12 12.5.82\n",
            "    Uninstalling nvidia-cuda-runtime-cu12-12.5.82:\n",
            "      Successfully uninstalled nvidia-cuda-runtime-cu12-12.5.82\n",
            "  Attempting uninstall: nvidia-cuda-nvrtc-cu12\n",
            "    Found existing installation: nvidia-cuda-nvrtc-cu12 12.5.82\n",
            "    Uninstalling nvidia-cuda-nvrtc-cu12-12.5.82:\n",
            "      Successfully uninstalled nvidia-cuda-nvrtc-cu12-12.5.82\n",
            "  Attempting uninstall: nvidia-cuda-cupti-cu12\n",
            "    Found existing installation: nvidia-cuda-cupti-cu12 12.5.82\n",
            "    Uninstalling nvidia-cuda-cupti-cu12-12.5.82:\n",
            "      Successfully uninstalled nvidia-cuda-cupti-cu12-12.5.82\n",
            "  Attempting uninstall: nvidia-cublas-cu12\n",
            "    Found existing installation: nvidia-cublas-cu12 12.5.3.2\n",
            "    Uninstalling nvidia-cublas-cu12-12.5.3.2:\n",
            "      Successfully uninstalled nvidia-cublas-cu12-12.5.3.2\n",
            "  Attempting uninstall: nvidia-cusparse-cu12\n",
            "    Found existing installation: nvidia-cusparse-cu12 12.5.1.3\n",
            "    Uninstalling nvidia-cusparse-cu12-12.5.1.3:\n",
            "      Successfully uninstalled nvidia-cusparse-cu12-12.5.1.3\n",
            "  Attempting uninstall: nvidia-cudnn-cu12\n",
            "    Found existing installation: nvidia-cudnn-cu12 9.3.0.75\n",
            "    Uninstalling nvidia-cudnn-cu12-9.3.0.75:\n",
            "      Successfully uninstalled nvidia-cudnn-cu12-9.3.0.75\n",
            "  Attempting uninstall: nvidia-cusolver-cu12\n",
            "    Found existing installation: nvidia-cusolver-cu12 11.6.3.83\n",
            "    Uninstalling nvidia-cusolver-cu12-11.6.3.83:\n",
            "      Successfully uninstalled nvidia-cusolver-cu12-11.6.3.83\n",
            "Successfully installed fire-0.7.0 medmnist-3.0.2 nvidia-cublas-cu12-12.4.5.8 nvidia-cuda-cupti-cu12-12.4.127 nvidia-cuda-nvrtc-cu12-12.4.127 nvidia-cuda-runtime-cu12-12.4.127 nvidia-cudnn-cu12-9.1.0.70 nvidia-cufft-cu12-11.2.1.3 nvidia-curand-cu12-10.3.5.147 nvidia-cusolver-cu12-11.6.1.9 nvidia-cusparse-cu12-12.3.1.170 nvidia-nvjitlink-cu12-12.4.127\n"
          ]
        }
      ]
    },
    {
      "cell_type": "code",
      "execution_count": 2,
      "metadata": {
        "id": "uT9ospWT7po7"
      },
      "outputs": [],
      "source": [
        "import torch\n",
        "import torch.nn as nn\n",
        "import torch.optim as optim\n",
        "import torchvision.transforms as transforms\n",
        "import torchvision.utils as vutils\n",
        "from medmnist import ChestMNIST\n",
        "from torch.utils.data import DataLoader\n",
        "from torch.utils.tensorboard import SummaryWriter\n",
        "from tqdm import tqdm\n",
        "import os"
      ]
    },
    {
      "cell_type": "code",
      "source": [
        "# Set device\n",
        "device = torch.device(\"cuda\" if torch.cuda.is_available() else \"cpu\")"
      ],
      "metadata": {
        "id": "NPuLSNW09HWe"
      },
      "execution_count": 3,
      "outputs": []
    },
    {
      "cell_type": "code",
      "source": [
        "# Load MedMNIST Dataset\n",
        "transform = transforms.Compose([\n",
        "    transforms.ToTensor(),\n",
        "    transforms.Normalize((0.5,), (0.5,))\n",
        "])"
      ],
      "metadata": {
        "id": "CSF9z-S7-TS_"
      },
      "execution_count": 4,
      "outputs": []
    },
    {
      "cell_type": "code",
      "source": [
        "from medmnist import ChestMNIST\n",
        "\n",
        "# Load MedMNIST Dataset without downloading\n",
        "train_dataset = ChestMNIST(split=\"train\", transform=transform, download=True) # Set download=True to download the dataset\n",
        "train_loader = DataLoader(train_dataset, batch_size=64, shuffle=True)"
      ],
      "metadata": {
        "colab": {
          "base_uri": "https://localhost:8080/"
        },
        "id": "n9PA0Eco-TQn",
        "outputId": "facabce5-e5e1-4206-bafb-f3c2f0d6b2ba"
      },
      "execution_count": 5,
      "outputs": [
        {
          "output_type": "stream",
          "name": "stderr",
          "text": [
            "100%|██████████| 82.8M/82.8M [00:07<00:00, 11.0MB/s]\n"
          ]
        }
      ]
    },
    {
      "cell_type": "code",
      "source": [
        "# Generator Model\n",
        "class Generator(nn.Module):\n",
        "    def __init__(self, z_dim=100):\n",
        "        super(Generator, self).__init__()\n",
        "        self.net = nn.Sequential(\n",
        "            nn.Linear(z_dim, 128),\n",
        "            nn.ReLU(),\n",
        "            nn.Linear(128, 256),\n",
        "            nn.ReLU(),\n",
        "            nn.Linear(256, 512),\n",
        "            nn.ReLU(),\n",
        "            nn.Linear(512, 28*28),\n",
        "            nn.Tanh()\n",
        "        )\n",
        "\n",
        "    def forward(self, z):\n",
        "        return self.net(z).view(-1, 1, 28, 28)\n",
        "\n",
        "# Discriminator Model\n",
        "class Discriminator(nn.Module):\n",
        "    def __init__(self):\n",
        "        super(Discriminator, self).__init__()\n",
        "        self.net = nn.Sequential(\n",
        "            nn.Linear(28*28, 512),\n",
        "            nn.LeakyReLU(0.2),\n",
        "            nn.Linear(512, 256),\n",
        "            nn.LeakyReLU(0.2),\n",
        "            nn.Linear(256, 1)\n",
        "        )\n",
        "\n",
        "    def forward(self, x):\n",
        "        return self.net(x.view(x.size(0), -1))"
      ],
      "metadata": {
        "id": "a2ijxAN9-TKE"
      },
      "execution_count": 6,
      "outputs": []
    },
    {
      "cell_type": "code",
      "source": [
        "# WGAN-GP Gradient Penalty\n",
        "def gradient_penalty(D, real_data, fake_data):\n",
        "    alpha = torch.rand(real_data.size(0), 1, 1, 1).to(device)\n",
        "    interpolates = (alpha * real_data + (1 - alpha) * fake_data).requires_grad_(True)\n",
        "    d_interpolates = D(interpolates)\n",
        "    grad_outputs = torch.ones_like(d_interpolates)\n",
        "    gradients = torch.autograd.grad(\n",
        "        outputs=d_interpolates, inputs=interpolates, grad_outputs=grad_outputs,\n",
        "        create_graph=True, retain_graph=True)[0]\n",
        "    return ((gradients.norm(2, dim=1) - 1) ** 2).mean()"
      ],
      "metadata": {
        "id": "EoSAII9xCMbq"
      },
      "execution_count": 7,
      "outputs": []
    },
    {
      "cell_type": "code",
      "source": [
        "# Training Function\n",
        "def train_gan(gan_type, num_epochs=50):\n",
        "    writer = SummaryWriter(f\"runs/{gan_type}\")\n",
        "\n",
        "    z_dim = 100\n",
        "    generator = Generator(z_dim).to(device)\n",
        "    discriminator = Discriminator().to(device)\n",
        "\n",
        "    optim_G = optim.Adam(generator.parameters(), lr=0.0002, betas=(0.5, 0.999))\n",
        "    optim_D = optim.Adam(discriminator.parameters(), lr=0.0002, betas=(0.5, 0.999))\n",
        "\n",
        "    for epoch in range(num_epochs):\n",
        "        for real, _ in tqdm(train_loader):\n",
        "            real = real.to(device)\n",
        "\n",
        "            # Generate fake images\n",
        "            z = torch.randn(real.size(0), z_dim).to(device)\n",
        "            fake = generator(z)\n",
        "\n",
        "            # Discriminator update\n",
        "            optim_D.zero_grad()\n",
        "            real_loss, fake_loss = 0, 0\n",
        "\n",
        "            if gan_type == \"LS-GAN\":\n",
        "                real_loss = 0.5 * ((discriminator(real) - 1) ** 2).mean()\n",
        "                fake_loss = 0.5 * (discriminator(fake) ** 2).mean()\n",
        "            elif gan_type == \"WGAN\":\n",
        "                real_loss = -discriminator(real).mean()\n",
        "                fake_loss = discriminator(fake).mean()\n",
        "            elif gan_type == \"WGAN-GP\":\n",
        "                real_loss = -discriminator(real).mean()\n",
        "                fake_loss = discriminator(fake).mean()\n",
        "                gp = gradient_penalty(discriminator, real, fake)\n",
        "                loss_D = real_loss + fake_loss + 10 * gp\n",
        "            else:\n",
        "                raise ValueError(\"Invalid GAN type\")\n",
        "\n",
        "            loss_D = real_loss + fake_loss\n",
        "            loss_D.backward()\n",
        "            optim_D.step()\n",
        "\n",
        "            # Generator update\n",
        "            if epoch % 5 == 0:\n",
        "                optim_G.zero_grad()\n",
        "                fake = generator(z)\n",
        "                loss_G = -discriminator(fake).mean() if gan_type in [\"WGAN\", \"WGAN-GP\"] else ((discriminator(fake) - 1) ** 2).mean()\n",
        "                loss_G.backward()\n",
        "                optim_G.step()\n",
        "\n",
        "                # TensorBoard Logging\n",
        "                writer.add_scalar(\"Loss/Discriminator\", loss_D.item(), epoch)\n",
        "                writer.add_scalar(\"Loss/Generator\", loss_G.item(), epoch)\n",
        "\n",
        "        # Save generated images\n",
        "        vutils.save_image(fake[:25], f\"generated/{gan_type}_epoch_{epoch}.png\", normalize=True)\n",
        "\n",
        "    torch.save(generator.state_dict(), f\"models/{gan_type}_generator.pth\")\n",
        "    writer.close()\n"
      ],
      "metadata": {
        "id": "E8kM94zeCMZT"
      },
      "execution_count": 8,
      "outputs": []
    },
    {
      "cell_type": "code",
      "source": [
        "# Ensure directories exist\n",
        "os.makedirs(\"generated\", exist_ok=True)\n",
        "os.makedirs(\"models\", exist_ok=True)"
      ],
      "metadata": {
        "id": "31fkFncTCMW-"
      },
      "execution_count": 9,
      "outputs": []
    },
    {
      "cell_type": "code",
      "source": [
        "# Train all three GANs\n",
        "for gan in [\"LS-GAN\", \"WGAN\", \"WGAN-GP\"]:\n",
        "    train_gan(gan)"
      ],
      "metadata": {
        "colab": {
          "base_uri": "https://localhost:8080/"
        },
        "id": "MlFOHQeaCMUm",
        "outputId": "2cc7dd82-68c7-469f-c5d9-1b9aa0488cb2"
      },
      "execution_count": 10,
      "outputs": [
        {
          "output_type": "stream",
          "name": "stderr",
          "text": [
            "100%|██████████| 1227/1227 [00:23<00:00, 51.45it/s]\n",
            "100%|██████████| 1227/1227 [00:22<00:00, 54.06it/s]\n",
            "100%|██████████| 1227/1227 [00:18<00:00, 65.62it/s]\n",
            "100%|██████████| 1227/1227 [00:19<00:00, 64.32it/s]\n",
            "100%|██████████| 1227/1227 [00:18<00:00, 67.30it/s]\n",
            "100%|██████████| 1227/1227 [00:22<00:00, 54.12it/s]\n",
            "100%|██████████| 1227/1227 [00:18<00:00, 66.60it/s]\n",
            "100%|██████████| 1227/1227 [00:19<00:00, 64.15it/s]\n",
            "100%|██████████| 1227/1227 [00:19<00:00, 62.67it/s]\n",
            "100%|██████████| 1227/1227 [00:19<00:00, 63.68it/s]\n",
            "100%|██████████| 1227/1227 [00:22<00:00, 54.67it/s]\n",
            "100%|██████████| 1227/1227 [00:18<00:00, 66.07it/s]\n",
            "100%|██████████| 1227/1227 [00:18<00:00, 67.18it/s]\n",
            "100%|██████████| 1227/1227 [00:19<00:00, 63.43it/s]\n",
            "100%|██████████| 1227/1227 [00:18<00:00, 67.59it/s]\n",
            "100%|██████████| 1227/1227 [00:22<00:00, 54.51it/s]\n",
            "100%|██████████| 1227/1227 [00:18<00:00, 67.12it/s]\n",
            "100%|██████████| 1227/1227 [00:19<00:00, 63.80it/s]\n",
            "100%|██████████| 1227/1227 [00:18<00:00, 67.84it/s]\n",
            "100%|██████████| 1227/1227 [00:20<00:00, 59.89it/s]\n",
            "100%|██████████| 1227/1227 [00:22<00:00, 55.71it/s]\n",
            "100%|██████████| 1227/1227 [00:19<00:00, 62.24it/s]\n",
            "100%|██████████| 1227/1227 [00:30<00:00, 40.35it/s]\n",
            "100%|██████████| 1227/1227 [00:19<00:00, 61.59it/s]\n",
            "100%|██████████| 1227/1227 [00:18<00:00, 66.94it/s]\n",
            "100%|██████████| 1227/1227 [00:22<00:00, 54.40it/s]\n",
            "100%|██████████| 1227/1227 [00:19<00:00, 62.74it/s]\n",
            "100%|██████████| 1227/1227 [00:20<00:00, 59.75it/s]\n",
            "100%|██████████| 1227/1227 [00:19<00:00, 63.49it/s]\n",
            "100%|██████████| 1227/1227 [00:19<00:00, 63.64it/s]\n",
            "100%|██████████| 1227/1227 [00:21<00:00, 56.87it/s]\n",
            "100%|██████████| 1227/1227 [00:19<00:00, 63.84it/s]\n",
            "100%|██████████| 1227/1227 [00:18<00:00, 67.66it/s]\n",
            "100%|██████████| 1227/1227 [00:19<00:00, 63.51it/s]\n",
            "100%|██████████| 1227/1227 [00:18<00:00, 66.93it/s]\n",
            "100%|██████████| 1227/1227 [00:22<00:00, 53.56it/s]\n",
            "100%|██████████| 1227/1227 [00:17<00:00, 68.53it/s]\n",
            "100%|██████████| 1227/1227 [00:18<00:00, 66.17it/s]\n",
            "100%|██████████| 1227/1227 [00:18<00:00, 66.80it/s]\n",
            "100%|██████████| 1227/1227 [00:19<00:00, 63.92it/s]\n",
            "100%|██████████| 1227/1227 [00:23<00:00, 52.16it/s]\n",
            "100%|██████████| 1227/1227 [00:19<00:00, 61.48it/s]\n",
            "100%|██████████| 1227/1227 [00:19<00:00, 63.84it/s]\n",
            "100%|██████████| 1227/1227 [00:19<00:00, 62.35it/s]\n",
            "100%|██████████| 1227/1227 [00:18<00:00, 66.95it/s]\n",
            "100%|██████████| 1227/1227 [00:22<00:00, 53.97it/s]\n",
            "100%|██████████| 1227/1227 [00:18<00:00, 66.63it/s]\n",
            "100%|██████████| 1227/1227 [00:19<00:00, 63.57it/s]\n",
            "100%|██████████| 1227/1227 [00:18<00:00, 66.91it/s]\n",
            "100%|██████████| 1227/1227 [00:18<00:00, 65.27it/s]\n",
            "100%|██████████| 1227/1227 [00:23<00:00, 52.15it/s]\n",
            "100%|██████████| 1227/1227 [00:18<00:00, 64.84it/s]\n",
            "100%|██████████| 1227/1227 [00:17<00:00, 68.25it/s]\n",
            "100%|██████████| 1227/1227 [00:18<00:00, 67.77it/s]\n",
            "100%|██████████| 1227/1227 [00:19<00:00, 64.56it/s]\n",
            "100%|██████████| 1227/1227 [00:22<00:00, 55.43it/s]\n",
            "100%|██████████| 1227/1227 [00:18<00:00, 65.83it/s]\n",
            "100%|██████████| 1227/1227 [00:17<00:00, 68.23it/s]\n",
            "100%|██████████| 1227/1227 [00:19<00:00, 63.71it/s]\n",
            "100%|██████████| 1227/1227 [00:17<00:00, 68.87it/s]\n",
            "100%|██████████| 1227/1227 [00:22<00:00, 55.70it/s]\n",
            "100%|██████████| 1227/1227 [00:18<00:00, 65.05it/s]\n",
            "100%|██████████| 1227/1227 [00:18<00:00, 65.34it/s]\n",
            "100%|██████████| 1227/1227 [00:17<00:00, 68.44it/s]\n",
            "100%|██████████| 1227/1227 [00:17<00:00, 68.79it/s]\n",
            "100%|██████████| 1227/1227 [00:22<00:00, 55.32it/s]\n",
            "100%|██████████| 1227/1227 [00:18<00:00, 67.06it/s]\n",
            "100%|██████████| 1227/1227 [00:19<00:00, 61.97it/s]\n",
            "100%|██████████| 1227/1227 [00:18<00:00, 67.80it/s]\n",
            "100%|██████████| 1227/1227 [00:18<00:00, 64.86it/s]\n",
            "100%|██████████| 1227/1227 [00:21<00:00, 57.83it/s]\n",
            "100%|██████████| 1227/1227 [00:18<00:00, 64.76it/s]\n",
            "100%|██████████| 1227/1227 [00:18<00:00, 65.15it/s]\n",
            "100%|██████████| 1227/1227 [00:19<00:00, 64.56it/s]\n",
            "100%|██████████| 1227/1227 [00:18<00:00, 67.62it/s]\n",
            "100%|██████████| 1227/1227 [00:22<00:00, 55.41it/s]\n",
            "100%|██████████| 1227/1227 [00:18<00:00, 68.07it/s]\n",
            "100%|██████████| 1227/1227 [00:18<00:00, 66.36it/s]\n",
            "100%|██████████| 1227/1227 [00:18<00:00, 65.77it/s]\n",
            "100%|██████████| 1227/1227 [00:17<00:00, 69.14it/s]\n",
            "100%|██████████| 1227/1227 [00:22<00:00, 54.17it/s]\n",
            "100%|██████████| 1227/1227 [00:18<00:00, 68.01it/s]\n",
            "100%|██████████| 1227/1227 [00:18<00:00, 66.19it/s]\n",
            "100%|██████████| 1227/1227 [00:19<00:00, 64.36it/s]\n",
            "100%|██████████| 1227/1227 [00:18<00:00, 66.42it/s]\n",
            "100%|██████████| 1227/1227 [00:21<00:00, 57.77it/s]\n",
            "100%|██████████| 1227/1227 [00:18<00:00, 64.60it/s]\n",
            "100%|██████████| 1227/1227 [00:17<00:00, 68.27it/s]\n",
            "100%|██████████| 1227/1227 [00:17<00:00, 68.74it/s]\n",
            "100%|██████████| 1227/1227 [00:18<00:00, 64.76it/s]\n",
            "100%|██████████| 1227/1227 [00:21<00:00, 56.90it/s]\n",
            "100%|██████████| 1227/1227 [00:18<00:00, 66.10it/s]\n",
            "100%|██████████| 1227/1227 [00:17<00:00, 69.17it/s]\n",
            "100%|██████████| 1227/1227 [00:18<00:00, 65.80it/s]\n",
            "100%|██████████| 1227/1227 [00:19<00:00, 63.69it/s]\n",
            "100%|██████████| 1227/1227 [00:22<00:00, 55.44it/s]\n",
            "100%|██████████| 1227/1227 [00:17<00:00, 68.80it/s]\n",
            "100%|██████████| 1227/1227 [00:17<00:00, 69.19it/s]\n",
            "100%|██████████| 1227/1227 [00:18<00:00, 65.81it/s]\n",
            "100%|██████████| 1227/1227 [00:17<00:00, 69.36it/s]\n",
            "100%|██████████| 1227/1227 [00:23<00:00, 52.87it/s]\n",
            "100%|██████████| 1227/1227 [00:18<00:00, 64.82it/s]\n",
            "100%|██████████| 1227/1227 [00:19<00:00, 61.51it/s]\n",
            "100%|██████████| 1227/1227 [00:19<00:00, 64.36it/s]\n",
            "100%|██████████| 1227/1227 [00:19<00:00, 61.77it/s]\n",
            "100%|██████████| 1227/1227 [00:24<00:00, 50.82it/s]\n",
            "100%|██████████| 1227/1227 [00:18<00:00, 64.73it/s]\n",
            "100%|██████████| 1227/1227 [00:19<00:00, 62.46it/s]\n",
            "100%|██████████| 1227/1227 [00:18<00:00, 65.00it/s]\n",
            "100%|██████████| 1227/1227 [00:19<00:00, 62.20it/s]\n",
            "100%|██████████| 1227/1227 [00:22<00:00, 55.22it/s]\n",
            "100%|██████████| 1227/1227 [00:19<00:00, 61.92it/s]\n",
            "100%|██████████| 1227/1227 [00:18<00:00, 64.69it/s]\n",
            "100%|██████████| 1227/1227 [00:19<00:00, 62.34it/s]\n",
            "100%|██████████| 1227/1227 [00:19<00:00, 64.39it/s]\n",
            "100%|██████████| 1227/1227 [00:23<00:00, 52.94it/s]\n",
            "100%|██████████| 1227/1227 [00:20<00:00, 59.33it/s]\n",
            "100%|██████████| 1227/1227 [00:19<00:00, 62.40it/s]\n",
            "100%|██████████| 1227/1227 [00:18<00:00, 64.82it/s]\n",
            "100%|██████████| 1227/1227 [00:19<00:00, 62.52it/s]\n",
            "100%|██████████| 1227/1227 [00:23<00:00, 52.78it/s]\n",
            "100%|██████████| 1227/1227 [00:19<00:00, 64.04it/s]\n",
            "100%|██████████| 1227/1227 [00:19<00:00, 61.86it/s]\n",
            "100%|██████████| 1227/1227 [00:18<00:00, 65.01it/s]\n",
            "100%|██████████| 1227/1227 [00:20<00:00, 59.21it/s]\n",
            "100%|██████████| 1227/1227 [00:23<00:00, 53.00it/s]\n",
            "100%|██████████| 1227/1227 [00:20<00:00, 58.74it/s]\n",
            "100%|██████████| 1227/1227 [00:20<00:00, 60.99it/s]\n",
            "100%|██████████| 1227/1227 [00:19<00:00, 63.69it/s]\n",
            "100%|██████████| 1227/1227 [00:19<00:00, 62.51it/s]\n",
            "100%|██████████| 1227/1227 [00:22<00:00, 54.19it/s]\n",
            "100%|██████████| 1227/1227 [00:19<00:00, 61.38it/s]\n",
            "100%|██████████| 1227/1227 [00:18<00:00, 64.73it/s]\n",
            "100%|██████████| 1227/1227 [00:19<00:00, 61.97it/s]\n",
            "100%|██████████| 1227/1227 [00:18<00:00, 64.88it/s]\n",
            "100%|██████████| 1227/1227 [00:23<00:00, 52.83it/s]\n",
            "100%|██████████| 1227/1227 [00:19<00:00, 63.07it/s]\n",
            "100%|██████████| 1227/1227 [00:20<00:00, 59.61it/s]\n",
            "100%|██████████| 1227/1227 [00:18<00:00, 65.23it/s]\n",
            "100%|██████████| 1227/1227 [00:19<00:00, 61.85it/s]\n",
            "100%|██████████| 1227/1227 [00:23<00:00, 52.75it/s]\n",
            "100%|██████████| 1227/1227 [00:18<00:00, 65.15it/s]\n",
            "100%|██████████| 1227/1227 [00:19<00:00, 62.02it/s]\n",
            "100%|██████████| 1227/1227 [00:18<00:00, 64.89it/s]\n",
            "100%|██████████| 1227/1227 [00:19<00:00, 62.75it/s]\n",
            "100%|██████████| 1227/1227 [00:22<00:00, 54.51it/s]\n",
            "100%|██████████| 1227/1227 [00:19<00:00, 62.10it/s]\n",
            "100%|██████████| 1227/1227 [00:18<00:00, 65.44it/s]\n",
            "100%|██████████| 1227/1227 [00:20<00:00, 59.03it/s]\n",
            "100%|██████████| 1227/1227 [00:18<00:00, 64.67it/s]\n"
          ]
        }
      ]
    },
    {
      "cell_type": "markdown",
      "source": [
        "# **Evaluation**"
      ],
      "metadata": {
        "id": "pwNZZaJuMe-A"
      }
    },
    {
      "cell_type": "code",
      "source": [
        "import torch\n",
        "import torchvision.transforms as transforms\n",
        "import torchvision.utils as vutils\n",
        "import numpy as np\n",
        "from torch.utils.tensorboard import SummaryWriter\n",
        "from torchvision.models.inception import inception_v3\n",
        "from scipy.linalg import sqrtm\n",
        "from torch.nn.functional import softmax\n",
        "from medmnist import ChestMNIST\n",
        "import os"
      ],
      "metadata": {
        "id": "NSba8jocMez2"
      },
      "execution_count": 14,
      "outputs": []
    },
    {
      "cell_type": "code",
      "source": [
        "def calculate_inception_score(images, inception_model, batch_size=32):\n",
        "    \"\"\"Computes Inception Score (IS).\"\"\"\n",
        "    images = images.to(\"cuda\")\n",
        "    inception_model.eval()\n",
        "    with torch.no_grad():\n",
        "        preds = softmax(inception_model(images), dim=1).cpu().numpy()\n",
        "\n",
        "    scores = []\n",
        "    for i in range(0, len(preds), batch_size):\n",
        "        part = preds[i:i+batch_size]\n",
        "        py = np.mean(part, axis=0)\n",
        "        kl_div = part * (np.log(part) - np.log(py))\n",
        "        scores.append(np.exp(np.mean(np.sum(kl_div, axis=1))))\n",
        "    return np.mean(scores), np.std(scores)\n",
        "\n",
        "def calculate_fid(real_images, fake_images, inception_model):\n",
        "    \"\"\"Computes Fréchet Inception Distance (FID).\"\"\"\n",
        "    inception_model.eval()\n",
        "    with torch.no_grad():\n",
        "        real_features = inception_model(real_images).cpu().numpy()\n",
        "        fake_features = inception_model(fake_images).cpu().numpy()\n",
        "\n",
        "    mu_real, sigma_real = real_features.mean(axis=0), np.cov(real_features, rowvar=False)\n",
        "    mu_fake, sigma_fake = fake_features.mean(axis=0), np.cov(fake_features, rowvar=False)\n",
        "\n",
        "    diff = mu_real - mu_fake\n",
        "    cov_mean, _ = sqrtm(sigma_real @ sigma_fake, disp=False)\n",
        "    if np.iscomplexobj(cov_mean):\n",
        "        cov_mean = cov_mean.real\n",
        "\n",
        "    fid_score = np.sum(diff**2) + np.trace(sigma_real + sigma_fake - 2 * cov_mean)\n",
        "    return fid_score\n",
        "\n",
        "def evaluate_gan(gan_type, generator, data_loader, z_dim=100):\n",
        "    \"\"\"Evaluates the trained GAN model.\"\"\"\n",
        "    device = \"cuda\" if torch.cuda.is_available() else \"cpu\"\n",
        "    writer = SummaryWriter(f\"runs/{gan_type}_evaluation\")\n",
        "    generator.to(device).eval()\n",
        "    inception_model = inception_v3(pretrained=True, transform_input=False).to(device)\n",
        "\n",
        "    real_images, _ = next(iter(data_loader))\n",
        "    real_images = real_images.to(device)\n",
        "\n",
        "    with torch.no_grad():\n",
        "        z = torch.randn(real_images.size(0), z_dim, device=device)\n",
        "        fake_images = generator(z)\n",
        "\n",
        "    # Compute IS and FID\n",
        "    inception_score, is_std = calculate_inception_score(fake_images, inception_model)\n",
        "    fid_score = calculate_fid(real_images, fake_images, inception_model)\n",
        "\n",
        "    # Log metrics\n",
        "    writer.add_scalar(\"Metrics/Inception Score\", inception_score, 0)\n",
        "    writer.add_scalar(\"Metrics/FID\", fid_score, 0)\n",
        "    vutils.save_image(fake_images[:25], f\"generated/{gan_type}_evaluation.png\", normalize=True)\n",
        "    writer.add_image(\"Generated Images\", vutils.make_grid(fake_images[:25], normalize=True), 0)\n",
        "    writer.close()\n",
        "\n",
        "    print(f\"{gan_type} - IS: {inception_score:.3f} ± {is_std:.3f}, FID: {fid_score:.3f}\")\n",
        "\n",
        "import torch\n",
        "import torchvision.transforms as transforms\n",
        "from medmnist import ChestMNIST\n",
        "import os\n",
        "\n",
        "# Convert grayscale to 3-channel by repeating across 3 channels\n",
        "class GrayscaleToRGB:\n",
        "    def __call__(self, img):\n",
        "        return img.repeat(3, 1, 1)  # Repeat the grayscale channel 3 times\n",
        "\n",
        "def main():\n",
        "    os.makedirs(\"generated\", exist_ok=True)\n",
        "\n",
        "    dataset = ChestMNIST(root=\"./data\", split=\"test\", download=True, transform=transforms.Compose([\n",
        "        transforms.ToTensor(),\n",
        "        GrayscaleToRGB(),  # Convert grayscale to RGB by repeating channels\n",
        "        transforms.Normalize((0.5, 0.5, 0.5), (0.5, 0.5, 0.5))  # Normalize for 3 channels\n",
        "    ]))\n",
        "\n",
        "    data_loader = torch.utils.data.DataLoader(dataset, batch_size=64, shuffle=True)\n",
        "\n",
        "    z_dim = 100\n",
        "    for gan_type in [\"LS-GAN\", \"WGAN\", \"WGAN-GP\"]:\n",
        "        generator = Generator(z_dim)\n",
        "        generator.load_state_dict(torch.load(f\"models/{gan_type}_generator.pth\"))\n",
        "        evaluate_gan(gan_type, generator, data_loader, z_dim)"
      ],
      "metadata": {
        "id": "bfhBSHgRMlB5"
      },
      "execution_count": 19,
      "outputs": []
    },
    {
      "cell_type": "code",
      "source": [
        "if __name__ == \"__main__\":\n",
        "    main()"
      ],
      "metadata": {
        "colab": {
          "base_uri": "https://localhost:8080/",
          "height": 435
        },
        "id": "GUH5aH-YMexP",
        "outputId": "a2f33fbd-7ef5-4c7b-a319-fce9026dd692"
      },
      "execution_count": 20,
      "outputs": [
        {
          "output_type": "error",
          "ename": "RuntimeError",
          "evalue": "Failed to setup the default `root` directory. Please specify and create the `root` directory manually.",
          "traceback": [
            "\u001b[0;31m---------------------------------------------------------------------------\u001b[0m",
            "\u001b[0;31mRuntimeError\u001b[0m                              Traceback (most recent call last)",
            "\u001b[0;32m<ipython-input-20-972361fa1b80>\u001b[0m in \u001b[0;36m<cell line: 0>\u001b[0;34m()\u001b[0m\n\u001b[1;32m      1\u001b[0m \u001b[0;32mif\u001b[0m \u001b[0m__name__\u001b[0m \u001b[0;34m==\u001b[0m \u001b[0;34m\"__main__\"\u001b[0m\u001b[0;34m:\u001b[0m\u001b[0;34m\u001b[0m\u001b[0;34m\u001b[0m\u001b[0m\n\u001b[0;32m----> 2\u001b[0;31m     \u001b[0mmain\u001b[0m\u001b[0;34m(\u001b[0m\u001b[0;34m)\u001b[0m\u001b[0;34m\u001b[0m\u001b[0;34m\u001b[0m\u001b[0m\n\u001b[0m",
            "\u001b[0;32m<ipython-input-19-d6a8b2d63ef2>\u001b[0m in \u001b[0;36mmain\u001b[0;34m()\u001b[0m\n\u001b[1;32m     72\u001b[0m     \u001b[0mos\u001b[0m\u001b[0;34m.\u001b[0m\u001b[0mmakedirs\u001b[0m\u001b[0;34m(\u001b[0m\u001b[0;34m\"generated\"\u001b[0m\u001b[0;34m,\u001b[0m \u001b[0mexist_ok\u001b[0m\u001b[0;34m=\u001b[0m\u001b[0;32mTrue\u001b[0m\u001b[0;34m)\u001b[0m\u001b[0;34m\u001b[0m\u001b[0;34m\u001b[0m\u001b[0m\n\u001b[1;32m     73\u001b[0m \u001b[0;34m\u001b[0m\u001b[0m\n\u001b[0;32m---> 74\u001b[0;31m     dataset = ChestMNIST(root=\"./data\", split=\"test\", download=True, transform=transforms.Compose([\n\u001b[0m\u001b[1;32m     75\u001b[0m         \u001b[0mtransforms\u001b[0m\u001b[0;34m.\u001b[0m\u001b[0mToTensor\u001b[0m\u001b[0;34m(\u001b[0m\u001b[0;34m)\u001b[0m\u001b[0;34m,\u001b[0m\u001b[0;34m\u001b[0m\u001b[0;34m\u001b[0m\u001b[0m\n\u001b[1;32m     76\u001b[0m         \u001b[0mGrayscaleToRGB\u001b[0m\u001b[0;34m(\u001b[0m\u001b[0;34m)\u001b[0m\u001b[0;34m,\u001b[0m  \u001b[0;31m# Convert grayscale to RGB by repeating channels\u001b[0m\u001b[0;34m\u001b[0m\u001b[0;34m\u001b[0m\u001b[0m\n",
            "\u001b[0;32m/usr/local/lib/python3.11/dist-packages/medmnist/dataset.py\u001b[0m in \u001b[0;36m__init__\u001b[0;34m(self, split, transform, target_transform, download, as_rgb, root, size, mmap_mode)\u001b[0m\n\u001b[1;32m     48\u001b[0m             \u001b[0mself\u001b[0m\u001b[0;34m.\u001b[0m\u001b[0mroot\u001b[0m \u001b[0;34m=\u001b[0m \u001b[0mroot\u001b[0m\u001b[0;34m\u001b[0m\u001b[0;34m\u001b[0m\u001b[0m\n\u001b[1;32m     49\u001b[0m         \u001b[0;32melse\u001b[0m\u001b[0;34m:\u001b[0m\u001b[0;34m\u001b[0m\u001b[0;34m\u001b[0m\u001b[0m\n\u001b[0;32m---> 50\u001b[0;31m             raise RuntimeError(\n\u001b[0m\u001b[1;32m     51\u001b[0m                 \u001b[0;34m\"Failed to setup the default `root` directory. \"\u001b[0m\u001b[0;34m\u001b[0m\u001b[0;34m\u001b[0m\u001b[0m\n\u001b[1;32m     52\u001b[0m                 \u001b[0;34m+\u001b[0m \u001b[0;34m\"Please specify and create the `root` directory manually.\"\u001b[0m\u001b[0;34m\u001b[0m\u001b[0;34m\u001b[0m\u001b[0m\n",
            "\u001b[0;31mRuntimeError\u001b[0m: Failed to setup the default `root` directory. Please specify and create the `root` directory manually."
          ]
        }
      ]
    },
    {
      "cell_type": "code",
      "source": [],
      "metadata": {
        "id": "SCQKx0jVMeuo"
      },
      "execution_count": null,
      "outputs": []
    },
    {
      "cell_type": "code",
      "source": [],
      "metadata": {
        "id": "Qp3eucABMerq"
      },
      "execution_count": null,
      "outputs": []
    },
    {
      "cell_type": "code",
      "source": [],
      "metadata": {
        "id": "U5UqVH6HMepK"
      },
      "execution_count": null,
      "outputs": []
    },
    {
      "cell_type": "code",
      "source": [],
      "metadata": {
        "id": "G68SluqFMemT"
      },
      "execution_count": null,
      "outputs": []
    },
    {
      "cell_type": "code",
      "source": [],
      "metadata": {
        "id": "Y8i-c1wyMejr"
      },
      "execution_count": null,
      "outputs": []
    },
    {
      "cell_type": "code",
      "source": [],
      "metadata": {
        "id": "xraY5G5NMehF"
      },
      "execution_count": null,
      "outputs": []
    },
    {
      "cell_type": "code",
      "source": [],
      "metadata": {
        "id": "NWitcE1-Meeg"
      },
      "execution_count": null,
      "outputs": []
    },
    {
      "cell_type": "code",
      "source": [],
      "metadata": {
        "id": "xNWeWVU2Meb5"
      },
      "execution_count": null,
      "outputs": []
    },
    {
      "cell_type": "code",
      "source": [],
      "metadata": {
        "id": "Cnk2VISmMeZS"
      },
      "execution_count": null,
      "outputs": []
    },
    {
      "cell_type": "code",
      "source": [],
      "metadata": {
        "id": "xrJByCI_MeWs"
      },
      "execution_count": null,
      "outputs": []
    },
    {
      "cell_type": "code",
      "source": [
        "import torch\n",
        "from torchmetrics.image.inception import InceptionScore\n",
        "from torchmetrics.image.fid import FrechetInceptionDistance\n",
        "from medmnist import ChestMNIST\n",
        "import torchvision.transforms as transforms"
      ],
      "metadata": {
        "id": "G9YaidK6CMSQ"
      },
      "execution_count": null,
      "outputs": []
    },
    {
      "cell_type": "code",
      "source": [
        "# Set device\n",
        "device = torch.device(\"cuda\" if torch.cuda.is_available() else \"cpu\")"
      ],
      "metadata": {
        "id": "4b1iU3TtCMPu"
      },
      "execution_count": null,
      "outputs": []
    },
    {
      "cell_type": "code",
      "source": [
        "# Load real images without downloading\n",
        "transform = transforms.Compose([\n",
        "    transforms.ToTensor(),\n",
        "    transforms.Normalize((0.5,), (0.5,))\n",
        "])\n",
        "real_dataset = ChestMNIST(split=\"test\", transform=transform, download=True) # Set download=True to download the dataset\n",
        "real_loader = DataLoader(real_dataset, batch_size=64, shuffle=True)"
      ],
      "metadata": {
        "id": "0uEvGCFxDBnA"
      },
      "execution_count": null,
      "outputs": []
    },
    {
      "cell_type": "code",
      "source": [
        "import torch\n",
        "# Import from their specific submodules\n",
        "from torchmetrics.image.inception import InceptionScore\n",
        "from torchmetrics.image.fid import FrechetInceptionDistance"
      ],
      "metadata": {
        "id": "xGUa1a0rTdGc"
      },
      "execution_count": null,
      "outputs": []
    },
    {
      "cell_type": "code",
      "source": [
        "# Compute Metrics\n",
        "def compute_metrics():\n",
        "    inception = InceptionScore(feature=2048).to(device)  # Specify feature=2048\n",
        "    fid = FrechetInceptionDistance(feature=2048).to(device)\n",
        "\n",
        "    # Get real images\n",
        "    real_images = next(iter(real_loader))[0].to(device)\n",
        "    real_images = real_images.float()  # Ensure float before scaling\n",
        "    real_images = (real_images * 255).byte()  # Convert to uint8\n",
        "    real_images = real_images.repeat(1, 3, 1, 1)  # Convert grayscale to RGB if needed\n",
        "    fid.update(real_images, real=True)\n",
        "\n",
        "    for gan in [\"LS-GAN\", \"WGAN\", \"WGAN-GP\"]:\n",
        "        generator = Generator().to(device)  # Ensure Generator is defined\n",
        "        generator.load_state_dict(torch.load(f\"models/{gan}_generator.pth\"))\n",
        "        generator.eval()\n",
        "\n",
        "        # Generate fake images\n",
        "        latent_dim = 100  # Adjust this if needed\n",
        "        fake_images = torch.cat([generator(torch.randn(64, latent_dim, device=device)) for _ in range(10)], dim=0)\n",
        "\n",
        "        fake_images = fake_images.float()  # Ensure float before scaling\n",
        "        fake_images = (fake_images + 1) / 2  # Rescale to [0,1]\n",
        "        fake_images = (fake_images * 255).byte()\n",
        "        fake_images = fake_images.repeat(1, 3, 1, 1)\n",
        "\n",
        "        inception.update(fake_images)\n",
        "        fid.update(fake_images, real=False)\n",
        "\n",
        "        score, _ = inception.compute()\n",
        "        fid_value = fid.compute()\n",
        "\n",
        "        print(f\"{gan} - Inception Score: {score.item()}, FID: {fid_value.item()}\")\n"
      ],
      "metadata": {
        "id": "TM67qgiPDBkY"
      },
      "execution_count": null,
      "outputs": []
    },
    {
      "cell_type": "code",
      "source": [
        "compute_metrics()"
      ],
      "metadata": {
        "colab": {
          "base_uri": "https://localhost:8080/",
          "height": 592
        },
        "id": "FanPUwGjTm8u",
        "outputId": "72d41e3d-9b66-4053-a1cf-16fa1b65d797"
      },
      "execution_count": null,
      "outputs": [
        {
          "output_type": "stream",
          "name": "stderr",
          "text": [
            "/usr/local/lib/python3.11/dist-packages/torchmetrics/utilities/prints.py:43: UserWarning: Metric `InceptionScore` will save all extracted features in buffer. For large datasets this may lead to large memory footprint.\n",
            "  warnings.warn(*args, **kwargs)\n"
          ]
        },
        {
          "output_type": "error",
          "ename": "ModuleNotFoundError",
          "evalue": "InceptionScore metric requires that `Torch-fidelity` is installed. Either install as `pip install torchmetrics[image]` or `pip install torch-fidelity`.",
          "traceback": [
            "\u001b[0;31m---------------------------------------------------------------------------\u001b[0m",
            "\u001b[0;31mModuleNotFoundError\u001b[0m                       Traceback (most recent call last)",
            "\u001b[0;32m<ipython-input-53-c9ea3afbf37d>\u001b[0m in \u001b[0;36m<cell line: 0>\u001b[0;34m()\u001b[0m\n\u001b[0;32m----> 1\u001b[0;31m \u001b[0mcompute_metrics\u001b[0m\u001b[0;34m(\u001b[0m\u001b[0;34m)\u001b[0m\u001b[0;34m\u001b[0m\u001b[0;34m\u001b[0m\u001b[0m\n\u001b[0m",
            "\u001b[0;32m<ipython-input-52-d8abf4fae9d0>\u001b[0m in \u001b[0;36mcompute_metrics\u001b[0;34m()\u001b[0m\n\u001b[1;32m      1\u001b[0m \u001b[0;31m# Compute Metrics\u001b[0m\u001b[0;34m\u001b[0m\u001b[0;34m\u001b[0m\u001b[0m\n\u001b[1;32m      2\u001b[0m \u001b[0;32mdef\u001b[0m \u001b[0mcompute_metrics\u001b[0m\u001b[0;34m(\u001b[0m\u001b[0;34m)\u001b[0m\u001b[0;34m:\u001b[0m\u001b[0;34m\u001b[0m\u001b[0;34m\u001b[0m\u001b[0m\n\u001b[0;32m----> 3\u001b[0;31m     \u001b[0minception\u001b[0m \u001b[0;34m=\u001b[0m \u001b[0mInceptionScore\u001b[0m\u001b[0;34m(\u001b[0m\u001b[0mfeature\u001b[0m\u001b[0;34m=\u001b[0m\u001b[0;36m2048\u001b[0m\u001b[0;34m)\u001b[0m\u001b[0;34m.\u001b[0m\u001b[0mto\u001b[0m\u001b[0;34m(\u001b[0m\u001b[0mdevice\u001b[0m\u001b[0;34m)\u001b[0m  \u001b[0;31m# Specify feature=2048\u001b[0m\u001b[0;34m\u001b[0m\u001b[0;34m\u001b[0m\u001b[0m\n\u001b[0m\u001b[1;32m      4\u001b[0m     \u001b[0mfid\u001b[0m \u001b[0;34m=\u001b[0m \u001b[0mFrechetInceptionDistance\u001b[0m\u001b[0;34m(\u001b[0m\u001b[0mfeature\u001b[0m\u001b[0;34m=\u001b[0m\u001b[0;36m2048\u001b[0m\u001b[0;34m)\u001b[0m\u001b[0;34m.\u001b[0m\u001b[0mto\u001b[0m\u001b[0;34m(\u001b[0m\u001b[0mdevice\u001b[0m\u001b[0;34m)\u001b[0m\u001b[0;34m\u001b[0m\u001b[0;34m\u001b[0m\u001b[0m\n\u001b[1;32m      5\u001b[0m \u001b[0;34m\u001b[0m\u001b[0m\n",
            "\u001b[0;32m/usr/local/lib/python3.11/dist-packages/torchmetrics/image/inception.py\u001b[0m in \u001b[0;36m__init__\u001b[0;34m(self, feature, splits, normalize, **kwargs)\u001b[0m\n\u001b[1;32m    124\u001b[0m         \u001b[0;32mif\u001b[0m \u001b[0misinstance\u001b[0m\u001b[0;34m(\u001b[0m\u001b[0mfeature\u001b[0m\u001b[0;34m,\u001b[0m \u001b[0;34m(\u001b[0m\u001b[0mstr\u001b[0m\u001b[0;34m,\u001b[0m \u001b[0mint\u001b[0m\u001b[0;34m)\u001b[0m\u001b[0;34m)\u001b[0m\u001b[0;34m:\u001b[0m\u001b[0;34m\u001b[0m\u001b[0;34m\u001b[0m\u001b[0m\n\u001b[1;32m    125\u001b[0m             \u001b[0;32mif\u001b[0m \u001b[0;32mnot\u001b[0m \u001b[0m_TORCH_FIDELITY_AVAILABLE\u001b[0m\u001b[0;34m:\u001b[0m\u001b[0;34m\u001b[0m\u001b[0;34m\u001b[0m\u001b[0m\n\u001b[0;32m--> 126\u001b[0;31m                 raise ModuleNotFoundError(\n\u001b[0m\u001b[1;32m    127\u001b[0m                     \u001b[0;34m\"InceptionScore metric requires that `Torch-fidelity` is installed.\"\u001b[0m\u001b[0;34m\u001b[0m\u001b[0;34m\u001b[0m\u001b[0m\n\u001b[1;32m    128\u001b[0m                     \u001b[0;34m\" Either install as `pip install torchmetrics[image]` or `pip install torch-fidelity`.\"\u001b[0m\u001b[0;34m\u001b[0m\u001b[0;34m\u001b[0m\u001b[0m\n",
            "\u001b[0;31mModuleNotFoundError\u001b[0m: InceptionScore metric requires that `Torch-fidelity` is installed. Either install as `pip install torchmetrics[image]` or `pip install torch-fidelity`.",
            "",
            "\u001b[0;31m---------------------------------------------------------------------------\u001b[0;32m\nNOTE: If your import is failing due to a missing package, you can\nmanually install dependencies using either !pip or !apt.\n\nTo view examples of installing some common dependencies, click the\n\"Open Examples\" button below.\n\u001b[0;31m---------------------------------------------------------------------------\u001b[0m\n"
          ],
          "errorDetails": {
            "actions": [
              {
                "action": "open_url",
                "actionText": "Open Examples",
                "url": "/notebooks/snippets/importing_libraries.ipynb"
              }
            ]
          }
        }
      ]
    },
    {
      "cell_type": "code",
      "source": [],
      "metadata": {
        "id": "Nv4byvCaTm6I"
      },
      "execution_count": null,
      "outputs": []
    },
    {
      "cell_type": "code",
      "source": [],
      "metadata": {
        "id": "uuiIfXPXTm0p"
      },
      "execution_count": null,
      "outputs": []
    },
    {
      "cell_type": "code",
      "source": [],
      "metadata": {
        "id": "VV8-MNYmTmyj"
      },
      "execution_count": null,
      "outputs": []
    },
    {
      "cell_type": "code",
      "source": [],
      "metadata": {
        "id": "75nIpplZTmwe"
      },
      "execution_count": null,
      "outputs": []
    },
    {
      "cell_type": "code",
      "source": [],
      "metadata": {
        "id": "YwFnLezzTmuS"
      },
      "execution_count": null,
      "outputs": []
    },
    {
      "cell_type": "code",
      "source": [
        "pip install torchmetrics[image]"
      ],
      "metadata": {
        "colab": {
          "base_uri": "https://localhost:8080/"
        },
        "id": "8un6HSs7SniN",
        "outputId": "19d99df6-85ae-4a19-d79b-379d8328751e"
      },
      "execution_count": null,
      "outputs": [
        {
          "output_type": "stream",
          "name": "stdout",
          "text": [
            "Requirement already satisfied: torchmetrics[image] in /usr/local/lib/python3.11/dist-packages (1.7.0)\n",
            "Requirement already satisfied: numpy>1.20.0 in /usr/local/lib/python3.11/dist-packages (from torchmetrics[image]) (2.0.2)\n",
            "Requirement already satisfied: packaging>17.1 in /usr/local/lib/python3.11/dist-packages (from torchmetrics[image]) (24.2)\n",
            "Requirement already satisfied: torch>=2.0.0 in /usr/local/lib/python3.11/dist-packages (from torchmetrics[image]) (2.6.0+cu124)\n",
            "Requirement already satisfied: lightning-utilities>=0.8.0 in /usr/local/lib/python3.11/dist-packages (from torchmetrics[image]) (0.14.2)\n",
            "Requirement already satisfied: torch-fidelity<=0.4.0 in /usr/local/lib/python3.11/dist-packages (from torchmetrics[image]) (0.3.0)\n",
            "Requirement already satisfied: torchvision>=0.15.1 in /usr/local/lib/python3.11/dist-packages (from torchmetrics[image]) (0.21.0+cu124)\n",
            "Requirement already satisfied: scipy>1.0.0 in /usr/local/lib/python3.11/dist-packages (from torchmetrics[image]) (1.14.1)\n",
            "Requirement already satisfied: setuptools in /usr/local/lib/python3.11/dist-packages (from lightning-utilities>=0.8.0->torchmetrics[image]) (75.2.0)\n",
            "Requirement already satisfied: typing_extensions in /usr/local/lib/python3.11/dist-packages (from lightning-utilities>=0.8.0->torchmetrics[image]) (4.13.0)\n",
            "Requirement already satisfied: filelock in /usr/local/lib/python3.11/dist-packages (from torch>=2.0.0->torchmetrics[image]) (3.18.0)\n",
            "Requirement already satisfied: networkx in /usr/local/lib/python3.11/dist-packages (from torch>=2.0.0->torchmetrics[image]) (3.4.2)\n",
            "Requirement already satisfied: jinja2 in /usr/local/lib/python3.11/dist-packages (from torch>=2.0.0->torchmetrics[image]) (3.1.6)\n",
            "Requirement already satisfied: fsspec in /usr/local/lib/python3.11/dist-packages (from torch>=2.0.0->torchmetrics[image]) (2025.3.0)\n",
            "Requirement already satisfied: nvidia-cuda-nvrtc-cu12==12.4.127 in /usr/local/lib/python3.11/dist-packages (from torch>=2.0.0->torchmetrics[image]) (12.4.127)\n",
            "Requirement already satisfied: nvidia-cuda-runtime-cu12==12.4.127 in /usr/local/lib/python3.11/dist-packages (from torch>=2.0.0->torchmetrics[image]) (12.4.127)\n",
            "Requirement already satisfied: nvidia-cuda-cupti-cu12==12.4.127 in /usr/local/lib/python3.11/dist-packages (from torch>=2.0.0->torchmetrics[image]) (12.4.127)\n",
            "Requirement already satisfied: nvidia-cudnn-cu12==9.1.0.70 in /usr/local/lib/python3.11/dist-packages (from torch>=2.0.0->torchmetrics[image]) (9.1.0.70)\n",
            "Requirement already satisfied: nvidia-cublas-cu12==12.4.5.8 in /usr/local/lib/python3.11/dist-packages (from torch>=2.0.0->torchmetrics[image]) (12.4.5.8)\n",
            "Requirement already satisfied: nvidia-cufft-cu12==11.2.1.3 in /usr/local/lib/python3.11/dist-packages (from torch>=2.0.0->torchmetrics[image]) (11.2.1.3)\n",
            "Requirement already satisfied: nvidia-curand-cu12==10.3.5.147 in /usr/local/lib/python3.11/dist-packages (from torch>=2.0.0->torchmetrics[image]) (10.3.5.147)\n",
            "Requirement already satisfied: nvidia-cusolver-cu12==11.6.1.9 in /usr/local/lib/python3.11/dist-packages (from torch>=2.0.0->torchmetrics[image]) (11.6.1.9)\n",
            "Requirement already satisfied: nvidia-cusparse-cu12==12.3.1.170 in /usr/local/lib/python3.11/dist-packages (from torch>=2.0.0->torchmetrics[image]) (12.3.1.170)\n",
            "Requirement already satisfied: nvidia-cusparselt-cu12==0.6.2 in /usr/local/lib/python3.11/dist-packages (from torch>=2.0.0->torchmetrics[image]) (0.6.2)\n",
            "Requirement already satisfied: nvidia-nccl-cu12==2.21.5 in /usr/local/lib/python3.11/dist-packages (from torch>=2.0.0->torchmetrics[image]) (2.21.5)\n",
            "Requirement already satisfied: nvidia-nvtx-cu12==12.4.127 in /usr/local/lib/python3.11/dist-packages (from torch>=2.0.0->torchmetrics[image]) (12.4.127)\n",
            "Requirement already satisfied: nvidia-nvjitlink-cu12==12.4.127 in /usr/local/lib/python3.11/dist-packages (from torch>=2.0.0->torchmetrics[image]) (12.4.127)\n",
            "Requirement already satisfied: triton==3.2.0 in /usr/local/lib/python3.11/dist-packages (from torch>=2.0.0->torchmetrics[image]) (3.2.0)\n",
            "Requirement already satisfied: sympy==1.13.1 in /usr/local/lib/python3.11/dist-packages (from torch>=2.0.0->torchmetrics[image]) (1.13.1)\n",
            "Requirement already satisfied: mpmath<1.4,>=1.1.0 in /usr/local/lib/python3.11/dist-packages (from sympy==1.13.1->torch>=2.0.0->torchmetrics[image]) (1.3.0)\n",
            "Requirement already satisfied: Pillow in /usr/local/lib/python3.11/dist-packages (from torch-fidelity<=0.4.0->torchmetrics[image]) (11.1.0)\n",
            "Requirement already satisfied: tqdm in /usr/local/lib/python3.11/dist-packages (from torch-fidelity<=0.4.0->torchmetrics[image]) (4.67.1)\n",
            "Requirement already satisfied: MarkupSafe>=2.0 in /usr/local/lib/python3.11/dist-packages (from jinja2->torch>=2.0.0->torchmetrics[image]) (3.0.2)\n"
          ]
        }
      ]
    },
    {
      "cell_type": "code",
      "source": [
        "pip install torch-fidelity"
      ],
      "metadata": {
        "colab": {
          "base_uri": "https://localhost:8080/"
        },
        "id": "kpS8HwvvSoTt",
        "outputId": "e9fd326d-41b5-4718-b664-d782c85af96b"
      },
      "execution_count": null,
      "outputs": [
        {
          "output_type": "stream",
          "name": "stdout",
          "text": [
            "Requirement already satisfied: torch-fidelity in /usr/local/lib/python3.11/dist-packages (0.3.0)\n",
            "Requirement already satisfied: numpy in /usr/local/lib/python3.11/dist-packages (from torch-fidelity) (2.0.2)\n",
            "Requirement already satisfied: Pillow in /usr/local/lib/python3.11/dist-packages (from torch-fidelity) (11.1.0)\n",
            "Requirement already satisfied: scipy in /usr/local/lib/python3.11/dist-packages (from torch-fidelity) (1.14.1)\n",
            "Requirement already satisfied: torch in /usr/local/lib/python3.11/dist-packages (from torch-fidelity) (2.6.0+cu124)\n",
            "Requirement already satisfied: torchvision in /usr/local/lib/python3.11/dist-packages (from torch-fidelity) (0.21.0+cu124)\n",
            "Requirement already satisfied: tqdm in /usr/local/lib/python3.11/dist-packages (from torch-fidelity) (4.67.1)\n",
            "Requirement already satisfied: filelock in /usr/local/lib/python3.11/dist-packages (from torch->torch-fidelity) (3.18.0)\n",
            "Requirement already satisfied: typing-extensions>=4.10.0 in /usr/local/lib/python3.11/dist-packages (from torch->torch-fidelity) (4.13.0)\n",
            "Requirement already satisfied: networkx in /usr/local/lib/python3.11/dist-packages (from torch->torch-fidelity) (3.4.2)\n",
            "Requirement already satisfied: jinja2 in /usr/local/lib/python3.11/dist-packages (from torch->torch-fidelity) (3.1.6)\n",
            "Requirement already satisfied: fsspec in /usr/local/lib/python3.11/dist-packages (from torch->torch-fidelity) (2025.3.0)\n",
            "Requirement already satisfied: nvidia-cuda-nvrtc-cu12==12.4.127 in /usr/local/lib/python3.11/dist-packages (from torch->torch-fidelity) (12.4.127)\n",
            "Requirement already satisfied: nvidia-cuda-runtime-cu12==12.4.127 in /usr/local/lib/python3.11/dist-packages (from torch->torch-fidelity) (12.4.127)\n",
            "Requirement already satisfied: nvidia-cuda-cupti-cu12==12.4.127 in /usr/local/lib/python3.11/dist-packages (from torch->torch-fidelity) (12.4.127)\n",
            "Requirement already satisfied: nvidia-cudnn-cu12==9.1.0.70 in /usr/local/lib/python3.11/dist-packages (from torch->torch-fidelity) (9.1.0.70)\n",
            "Requirement already satisfied: nvidia-cublas-cu12==12.4.5.8 in /usr/local/lib/python3.11/dist-packages (from torch->torch-fidelity) (12.4.5.8)\n",
            "Requirement already satisfied: nvidia-cufft-cu12==11.2.1.3 in /usr/local/lib/python3.11/dist-packages (from torch->torch-fidelity) (11.2.1.3)\n",
            "Requirement already satisfied: nvidia-curand-cu12==10.3.5.147 in /usr/local/lib/python3.11/dist-packages (from torch->torch-fidelity) (10.3.5.147)\n",
            "Requirement already satisfied: nvidia-cusolver-cu12==11.6.1.9 in /usr/local/lib/python3.11/dist-packages (from torch->torch-fidelity) (11.6.1.9)\n",
            "Requirement already satisfied: nvidia-cusparse-cu12==12.3.1.170 in /usr/local/lib/python3.11/dist-packages (from torch->torch-fidelity) (12.3.1.170)\n",
            "Requirement already satisfied: nvidia-cusparselt-cu12==0.6.2 in /usr/local/lib/python3.11/dist-packages (from torch->torch-fidelity) (0.6.2)\n",
            "Requirement already satisfied: nvidia-nccl-cu12==2.21.5 in /usr/local/lib/python3.11/dist-packages (from torch->torch-fidelity) (2.21.5)\n",
            "Requirement already satisfied: nvidia-nvtx-cu12==12.4.127 in /usr/local/lib/python3.11/dist-packages (from torch->torch-fidelity) (12.4.127)\n",
            "Requirement already satisfied: nvidia-nvjitlink-cu12==12.4.127 in /usr/local/lib/python3.11/dist-packages (from torch->torch-fidelity) (12.4.127)\n",
            "Requirement already satisfied: triton==3.2.0 in /usr/local/lib/python3.11/dist-packages (from torch->torch-fidelity) (3.2.0)\n",
            "Requirement already satisfied: sympy==1.13.1 in /usr/local/lib/python3.11/dist-packages (from torch->torch-fidelity) (1.13.1)\n",
            "Requirement already satisfied: mpmath<1.4,>=1.1.0 in /usr/local/lib/python3.11/dist-packages (from sympy==1.13.1->torch->torch-fidelity) (1.3.0)\n",
            "Requirement already satisfied: MarkupSafe>=2.0 in /usr/local/lib/python3.11/dist-packages (from jinja2->torch->torch-fidelity) (3.0.2)\n"
          ]
        }
      ]
    },
    {
      "cell_type": "code",
      "source": [
        "compute_metrics()"
      ],
      "metadata": {
        "colab": {
          "base_uri": "https://localhost:8080/",
          "height": 538
        },
        "id": "sUDWNUgZDBiE",
        "outputId": "bbd6e446-c738-40e6-855b-65c3f6a86ea2"
      },
      "execution_count": null,
      "outputs": [
        {
          "output_type": "error",
          "ename": "ModuleNotFoundError",
          "evalue": "InceptionScore metric requires that `Torch-fidelity` is installed. Either install as `pip install torchmetrics[image]` or `pip install torch-fidelity`.",
          "traceback": [
            "\u001b[0;31m---------------------------------------------------------------------------\u001b[0m",
            "\u001b[0;31mModuleNotFoundError\u001b[0m                       Traceback (most recent call last)",
            "\u001b[0;32m<ipython-input-49-c9ea3afbf37d>\u001b[0m in \u001b[0;36m<cell line: 0>\u001b[0;34m()\u001b[0m\n\u001b[0;32m----> 1\u001b[0;31m \u001b[0mcompute_metrics\u001b[0m\u001b[0;34m(\u001b[0m\u001b[0;34m)\u001b[0m\u001b[0;34m\u001b[0m\u001b[0;34m\u001b[0m\u001b[0m\n\u001b[0m",
            "\u001b[0;32m<ipython-input-48-e361269a2118>\u001b[0m in \u001b[0;36mcompute_metrics\u001b[0;34m()\u001b[0m\n\u001b[1;32m      5\u001b[0m \u001b[0;31m# Compute Metrics\u001b[0m\u001b[0;34m\u001b[0m\u001b[0;34m\u001b[0m\u001b[0m\n\u001b[1;32m      6\u001b[0m \u001b[0;32mdef\u001b[0m \u001b[0mcompute_metrics\u001b[0m\u001b[0;34m(\u001b[0m\u001b[0;34m)\u001b[0m\u001b[0;34m:\u001b[0m\u001b[0;34m\u001b[0m\u001b[0;34m\u001b[0m\u001b[0m\n\u001b[0;32m----> 7\u001b[0;31m     \u001b[0minception\u001b[0m \u001b[0;34m=\u001b[0m \u001b[0mInceptionScore\u001b[0m\u001b[0;34m(\u001b[0m\u001b[0mfeature\u001b[0m\u001b[0;34m=\u001b[0m\u001b[0;36m2048\u001b[0m\u001b[0;34m)\u001b[0m\u001b[0;34m.\u001b[0m\u001b[0mto\u001b[0m\u001b[0;34m(\u001b[0m\u001b[0mdevice\u001b[0m\u001b[0;34m)\u001b[0m  \u001b[0;31m# Specify feature=2048\u001b[0m\u001b[0;34m\u001b[0m\u001b[0;34m\u001b[0m\u001b[0m\n\u001b[0m\u001b[1;32m      8\u001b[0m     \u001b[0mfid\u001b[0m \u001b[0;34m=\u001b[0m \u001b[0mFrechetInceptionDistance\u001b[0m\u001b[0;34m(\u001b[0m\u001b[0mfeature\u001b[0m\u001b[0;34m=\u001b[0m\u001b[0;36m2048\u001b[0m\u001b[0;34m)\u001b[0m\u001b[0;34m.\u001b[0m\u001b[0mto\u001b[0m\u001b[0;34m(\u001b[0m\u001b[0mdevice\u001b[0m\u001b[0;34m)\u001b[0m\u001b[0;34m\u001b[0m\u001b[0;34m\u001b[0m\u001b[0m\n\u001b[1;32m      9\u001b[0m \u001b[0;34m\u001b[0m\u001b[0m\n",
            "\u001b[0;32m/usr/local/lib/python3.11/dist-packages/torchmetrics/image/inception.py\u001b[0m in \u001b[0;36m__init__\u001b[0;34m(self, feature, splits, normalize, **kwargs)\u001b[0m\n\u001b[1;32m    124\u001b[0m         \u001b[0;32mif\u001b[0m \u001b[0misinstance\u001b[0m\u001b[0;34m(\u001b[0m\u001b[0mfeature\u001b[0m\u001b[0;34m,\u001b[0m \u001b[0;34m(\u001b[0m\u001b[0mstr\u001b[0m\u001b[0;34m,\u001b[0m \u001b[0mint\u001b[0m\u001b[0;34m)\u001b[0m\u001b[0;34m)\u001b[0m\u001b[0;34m:\u001b[0m\u001b[0;34m\u001b[0m\u001b[0;34m\u001b[0m\u001b[0m\n\u001b[1;32m    125\u001b[0m             \u001b[0;32mif\u001b[0m \u001b[0;32mnot\u001b[0m \u001b[0m_TORCH_FIDELITY_AVAILABLE\u001b[0m\u001b[0;34m:\u001b[0m\u001b[0;34m\u001b[0m\u001b[0;34m\u001b[0m\u001b[0m\n\u001b[0;32m--> 126\u001b[0;31m                 raise ModuleNotFoundError(\n\u001b[0m\u001b[1;32m    127\u001b[0m                     \u001b[0;34m\"InceptionScore metric requires that `Torch-fidelity` is installed.\"\u001b[0m\u001b[0;34m\u001b[0m\u001b[0;34m\u001b[0m\u001b[0m\n\u001b[1;32m    128\u001b[0m                     \u001b[0;34m\" Either install as `pip install torchmetrics[image]` or `pip install torch-fidelity`.\"\u001b[0m\u001b[0;34m\u001b[0m\u001b[0;34m\u001b[0m\u001b[0m\n",
            "\u001b[0;31mModuleNotFoundError\u001b[0m: InceptionScore metric requires that `Torch-fidelity` is installed. Either install as `pip install torchmetrics[image]` or `pip install torch-fidelity`.",
            "",
            "\u001b[0;31m---------------------------------------------------------------------------\u001b[0;32m\nNOTE: If your import is failing due to a missing package, you can\nmanually install dependencies using either !pip or !apt.\n\nTo view examples of installing some common dependencies, click the\n\"Open Examples\" button below.\n\u001b[0;31m---------------------------------------------------------------------------\u001b[0m\n"
          ],
          "errorDetails": {
            "actions": [
              {
                "action": "open_url",
                "actionText": "Open Examples",
                "url": "/notebooks/snippets/importing_libraries.ipynb"
              }
            ]
          }
        }
      ]
    },
    {
      "cell_type": "code",
      "source": [
        "from torchmetrics.image.fid import FrechetInceptionDistance\n",
        "\n",
        "# Remove the InceptionScore-related parts from compute_metrics()\n",
        "def compute_metrics():\n",
        "    fid = FrechetInceptionDistance().to(device)\n",
        "\n",
        "    # Get real images\n",
        "    real_images = next(iter(real_loader))[0].to(device)\n",
        "    real_images = (real_images * 255).byte()  # Convert to uint8\n",
        "    real_images = real_images.repeat(1, 3, 1, 1)  # Convert grayscale to RGB if needed\n",
        "    fid.update(real_images, real=True)\n",
        "\n",
        "    for gan in [\"LS-GAN\", \"WGAN\", \"WGAN-GP\"]:\n",
        "        generator = Generator().to(device)\n",
        "        generator.load_state_dict(torch.load(f\"models/{gan}_generator.pth\"))\n",
        "        generator.eval()\n",
        "\n",
        "        # Generate fake images\n",
        "        fake_images = torch.cat([generator(torch.randn(64, 100).to(device)) for _ in range(10)], dim=0)\n",
        "        fake_images = (fake_images + 1) / 2  # Rescale to [0,1]\n",
        "        fake_images = (fake_images * 255).byte()\n",
        "        fake_images = fake_images.repeat(1, 3, 1, 1)\n",
        "\n",
        "        fid.update(fake_images, real=False)\n",
        "\n",
        "        fid_value = fid.compute()\n",
        "        print(f\"{gan} - FID: {fid_value.item()}\")\n",
        "\n",
        "compute_metrics()\n"
      ],
      "metadata": {
        "colab": {
          "base_uri": "https://localhost:8080/",
          "height": 589
        },
        "id": "EZuJJb3NDBfd",
        "outputId": "cff3b749-24f7-4f62-bb45-25bfae935f72"
      },
      "execution_count": null,
      "outputs": [
        {
          "output_type": "error",
          "ename": "ModuleNotFoundError",
          "evalue": "FrechetInceptionDistance metric requires that `Torch-fidelity` is installed. Either install as `pip install torchmetrics[image]` or `pip install torch-fidelity`.",
          "traceback": [
            "\u001b[0;31m---------------------------------------------------------------------------\u001b[0m",
            "\u001b[0;31mModuleNotFoundError\u001b[0m                       Traceback (most recent call last)",
            "\u001b[0;32m<ipython-input-33-eb66145dd045>\u001b[0m in \u001b[0;36m<cell line: 0>\u001b[0;34m()\u001b[0m\n\u001b[1;32m     27\u001b[0m         \u001b[0mprint\u001b[0m\u001b[0;34m(\u001b[0m\u001b[0;34mf\"{gan} - FID: {fid_value.item()}\"\u001b[0m\u001b[0;34m)\u001b[0m\u001b[0;34m\u001b[0m\u001b[0;34m\u001b[0m\u001b[0m\n\u001b[1;32m     28\u001b[0m \u001b[0;34m\u001b[0m\u001b[0m\n\u001b[0;32m---> 29\u001b[0;31m \u001b[0mcompute_metrics\u001b[0m\u001b[0;34m(\u001b[0m\u001b[0;34m)\u001b[0m\u001b[0;34m\u001b[0m\u001b[0;34m\u001b[0m\u001b[0m\n\u001b[0m",
            "\u001b[0;32m<ipython-input-33-eb66145dd045>\u001b[0m in \u001b[0;36mcompute_metrics\u001b[0;34m()\u001b[0m\n\u001b[1;32m      3\u001b[0m \u001b[0;31m# Remove the InceptionScore-related parts from compute_metrics()\u001b[0m\u001b[0;34m\u001b[0m\u001b[0;34m\u001b[0m\u001b[0m\n\u001b[1;32m      4\u001b[0m \u001b[0;32mdef\u001b[0m \u001b[0mcompute_metrics\u001b[0m\u001b[0;34m(\u001b[0m\u001b[0;34m)\u001b[0m\u001b[0;34m:\u001b[0m\u001b[0;34m\u001b[0m\u001b[0;34m\u001b[0m\u001b[0m\n\u001b[0;32m----> 5\u001b[0;31m     \u001b[0mfid\u001b[0m \u001b[0;34m=\u001b[0m \u001b[0mFrechetInceptionDistance\u001b[0m\u001b[0;34m(\u001b[0m\u001b[0;34m)\u001b[0m\u001b[0;34m.\u001b[0m\u001b[0mto\u001b[0m\u001b[0;34m(\u001b[0m\u001b[0mdevice\u001b[0m\u001b[0;34m)\u001b[0m\u001b[0;34m\u001b[0m\u001b[0;34m\u001b[0m\u001b[0m\n\u001b[0m\u001b[1;32m      6\u001b[0m \u001b[0;34m\u001b[0m\u001b[0m\n\u001b[1;32m      7\u001b[0m     \u001b[0;31m# Get real images\u001b[0m\u001b[0;34m\u001b[0m\u001b[0;34m\u001b[0m\u001b[0m\n",
            "\u001b[0;32m/usr/local/lib/python3.11/dist-packages/torchmetrics/image/fid.py\u001b[0m in \u001b[0;36m__init__\u001b[0;34m(self, feature, reset_real_features, normalize, input_img_size, feature_extractor_weights_path, **kwargs)\u001b[0m\n\u001b[1;32m    314\u001b[0m             \u001b[0mnum_features\u001b[0m \u001b[0;34m=\u001b[0m \u001b[0mfeature\u001b[0m\u001b[0;34m\u001b[0m\u001b[0;34m\u001b[0m\u001b[0m\n\u001b[1;32m    315\u001b[0m             \u001b[0;32mif\u001b[0m \u001b[0;32mnot\u001b[0m \u001b[0m_TORCH_FIDELITY_AVAILABLE\u001b[0m\u001b[0;34m:\u001b[0m\u001b[0;34m\u001b[0m\u001b[0;34m\u001b[0m\u001b[0m\n\u001b[0;32m--> 316\u001b[0;31m                 raise ModuleNotFoundError(\n\u001b[0m\u001b[1;32m    317\u001b[0m                     \u001b[0;34m\"FrechetInceptionDistance metric requires that `Torch-fidelity` is installed.\"\u001b[0m\u001b[0;34m\u001b[0m\u001b[0;34m\u001b[0m\u001b[0m\n\u001b[1;32m    318\u001b[0m                     \u001b[0;34m\" Either install as `pip install torchmetrics[image]` or `pip install torch-fidelity`.\"\u001b[0m\u001b[0;34m\u001b[0m\u001b[0;34m\u001b[0m\u001b[0m\n",
            "\u001b[0;31mModuleNotFoundError\u001b[0m: FrechetInceptionDistance metric requires that `Torch-fidelity` is installed. Either install as `pip install torchmetrics[image]` or `pip install torch-fidelity`.",
            "",
            "\u001b[0;31m---------------------------------------------------------------------------\u001b[0;32m\nNOTE: If your import is failing due to a missing package, you can\nmanually install dependencies using either !pip or !apt.\n\nTo view examples of installing some common dependencies, click the\n\"Open Examples\" button below.\n\u001b[0;31m---------------------------------------------------------------------------\u001b[0m\n"
          ],
          "errorDetails": {
            "actions": [
              {
                "action": "open_url",
                "actionText": "Open Examples",
                "url": "/notebooks/snippets/importing_libraries.ipynb"
              }
            ]
          }
        }
      ]
    },
    {
      "cell_type": "code",
      "source": [],
      "metadata": {
        "id": "oBSufTS7DBcv"
      },
      "execution_count": null,
      "outputs": []
    },
    {
      "cell_type": "code",
      "source": [
        "pip show torch-fidelity"
      ],
      "metadata": {
        "colab": {
          "base_uri": "https://localhost:8080/"
        },
        "id": "CC_w44ExDBaS",
        "outputId": "4f69d47a-8ad1-43cc-d900-30253304a840"
      },
      "execution_count": null,
      "outputs": [
        {
          "output_type": "stream",
          "name": "stdout",
          "text": [
            "Name: torch-fidelity\n",
            "Version: 0.3.0\n",
            "Summary: High-fidelity performance metrics for generative models in PyTorch\n",
            "Home-page: https://www.github.com/toshas/torch-fidelity\n",
            "Author: Anton Obukhov\n",
            "Author-email: \n",
            "License: Apache License 2.0\n",
            "Location: /usr/local/lib/python3.11/dist-packages\n",
            "Requires: numpy, Pillow, scipy, torch, torchvision, tqdm\n",
            "Required-by: \n"
          ]
        }
      ]
    },
    {
      "cell_type": "code",
      "source": [
        "import torch_fidelity\n",
        "print(\"Torch-fidelity is working correctly!\")"
      ],
      "metadata": {
        "colab": {
          "base_uri": "https://localhost:8080/"
        },
        "id": "COQbIAQpDBXX",
        "outputId": "741adc6f-e2e0-4932-daad-61ef1b5ecaa2"
      },
      "execution_count": null,
      "outputs": [
        {
          "output_type": "stream",
          "name": "stdout",
          "text": [
            "Torch-fidelity is working correctly!\n"
          ]
        }
      ]
    },
    {
      "cell_type": "code",
      "source": [],
      "metadata": {
        "id": "9tCIQw5mDBVB"
      },
      "execution_count": null,
      "outputs": []
    }
  ]
}